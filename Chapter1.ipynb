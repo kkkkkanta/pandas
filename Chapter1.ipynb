{
 "cells": [
  {
   "cell_type": "code",
   "execution_count": 1,
   "metadata": {},
   "outputs": [
    {
     "name": "stdout",
     "output_type": "stream",
     "text": [
      "python version :  (3, 8, 5)\n",
      "pandas version :  1.1.3\n",
      "numpy version :  1.19.2\n",
      "matplotlib version :  3.3.2\n"
     ]
    }
   ],
   "source": [
    "import sys\n",
    "import pandas\n",
    "import numpy\n",
    "import matplotlib\n",
    "print('python version : ', sys.version_info[0:3])\n",
    "print('pandas version : ', pandas.__version__)\n",
    "print('numpy version : ', numpy.__version__)\n",
    "print('matplotlib version : ', matplotlib.__version__)"
   ]
  },
  {
   "cell_type": "code",
   "execution_count": 2,
   "metadata": {},
   "outputs": [],
   "source": [
    "#1.3 Pythonのデータ構造\n",
    "import pandas as pd\n",
    "import numpy as np\n",
    "import matplotlib.pyplot as plt"
   ]
  },
  {
   "cell_type": "code",
   "execution_count": 3,
   "metadata": {},
   "outputs": [
    {
     "name": "stdout",
     "output_type": "stream",
     "text": [
      "12345\n",
      "機械学習\n"
     ]
    }
   ],
   "source": [
    "var_1 = 12345\n",
    "print(var_1)\n",
    "\n",
    "var_2 = \"機械学習\"\n",
    "print(var_2)"
   ]
  },
  {
   "cell_type": "code",
   "execution_count": 4,
   "metadata": {},
   "outputs": [
    {
     "name": "stdout",
     "output_type": "stream",
     "text": [
      "12345\n",
      "67890\n",
      "100 0.5 日本語\n"
     ]
    }
   ],
   "source": [
    "abc = 12345\n",
    "ABC = 67890\n",
    "a, b, c = 100, 0.5, \"日本語\"\n",
    "print(abc)\n",
    "print(ABC)\n",
    "print(a, b, c)"
   ]
  },
  {
   "cell_type": "code",
   "execution_count": 5,
   "metadata": {},
   "outputs": [
    {
     "name": "stdout",
     "output_type": "stream",
     "text": [
      "20\n",
      "5.0\n",
      "8\n",
      "0\n",
      "5\n",
      "100\n"
     ]
    }
   ],
   "source": [
    "a = 10\n",
    "b = 2\n",
    "\n",
    "print(a*b)\n",
    "print(a/b)\n",
    "print(a-b)\n",
    "print(a%b)\n",
    "print(a//b)\n",
    "print(a**b)"
   ]
  },
  {
   "cell_type": "code",
   "execution_count": 6,
   "metadata": {},
   "outputs": [
    {
     "name": "stdout",
     "output_type": "stream",
     "text": [
      "5.0\n",
      "3.0\n",
      "6.0\n",
      "36.0\n",
      "18.0\n",
      "2.0\n"
     ]
    }
   ],
   "source": [
    "a = 3.0\n",
    "a += 2; print(a) # a = a + 2と同等\n",
    "a -= 2; print(a) # a = a - 2と同等\n",
    "a *= 2; print(a) # a = a * 2と同等\n",
    "a **= 2; print(a) # a = a ** 2と同等\n",
    "a /= 2; print(a) # a = a / 2と同等\n",
    "a %= 4; print(a) # a = a % 4と同等"
   ]
  },
  {
   "cell_type": "code",
   "execution_count": 7,
   "metadata": {},
   "outputs": [
    {
     "name": "stdout",
     "output_type": "stream",
     "text": [
      "True\n",
      "False\n",
      "False\n",
      "True\n"
     ]
    }
   ],
   "source": [
    "a = 5.0\n",
    "b = 2.0\n",
    "\n",
    "print(a > b)\n",
    "print(a < b)\n",
    "print(a == b)\n",
    "print(a != b)"
   ]
  },
  {
   "cell_type": "code",
   "execution_count": 8,
   "metadata": {},
   "outputs": [
    {
     "name": "stdout",
     "output_type": "stream",
     "text": [
      "<class 'int'>\n",
      "<class 'str'>\n"
     ]
    }
   ],
   "source": [
    "a = 1\n",
    "print(type(a))\n",
    "a = 'あ'\n",
    "print(type(a))"
   ]
  },
  {
   "cell_type": "code",
   "execution_count": 9,
   "metadata": {},
   "outputs": [
    {
     "name": "stdout",
     "output_type": "stream",
     "text": [
      "5 <class 'int'>\n",
      "2.0 <class 'float'>\n",
      "1 は整数int型ですか？ True\n",
      "1 は浮動小数点float型ですか？ False\n"
     ]
    }
   ],
   "source": [
    "a = 5\n",
    "print(a, type(a))\n",
    "\n",
    "b = 2.0\n",
    "print(b, type(b))\n",
    "\n",
    "c = 1\n",
    "print(c, \"は整数int型ですか？\", isinstance(c, int))\n",
    "print(c, \"は浮動小数点float型ですか？\", isinstance(c, float))"
   ]
  },
  {
   "cell_type": "code",
   "execution_count": 10,
   "metadata": {},
   "outputs": [
    {
     "ename": "TypeError",
     "evalue": "'str' object does not support item assignment",
     "output_type": "error",
     "traceback": [
      "\u001b[0;31m---------------------------------------------------------------------------\u001b[0m",
      "\u001b[0;31mTypeError\u001b[0m                                 Traceback (most recent call last)",
      "\u001b[0;32m<ipython-input-10-c7877ae3db94>\u001b[0m in \u001b[0;36m<module>\u001b[0;34m\u001b[0m\n\u001b[1;32m      1\u001b[0m \u001b[0ma\u001b[0m \u001b[0;34m=\u001b[0m \u001b[0;34m'abcde'\u001b[0m\u001b[0;34m\u001b[0m\u001b[0;34m\u001b[0m\u001b[0m\n\u001b[0;32m----> 2\u001b[0;31m \u001b[0ma\u001b[0m\u001b[0;34m[\u001b[0m\u001b[0;36m0\u001b[0m\u001b[0;34m]\u001b[0m \u001b[0;34m=\u001b[0m \u001b[0;34m'z'\u001b[0m\u001b[0;34m\u001b[0m\u001b[0;34m\u001b[0m\u001b[0m\n\u001b[0m",
      "\u001b[0;31mTypeError\u001b[0m: 'str' object does not support item assignment"
     ]
    }
   ],
   "source": [
    "a = 'abcde'\n",
    "a[0] = 'z'"
   ]
  },
  {
   "cell_type": "code",
   "execution_count": 11,
   "metadata": {},
   "outputs": [
    {
     "name": "stdout",
     "output_type": "stream",
     "text": [
      "<class 'tuple'> <class 'tuple'>\n",
      "True\n"
     ]
    }
   ],
   "source": [
    "a = (1, 2, 3)\n",
    "b = 1, 2, 3\n",
    "\n",
    "print(type(a), type(b))\n",
    "print(a == b)"
   ]
  },
  {
   "cell_type": "code",
   "execution_count": 12,
   "metadata": {},
   "outputs": [
    {
     "ename": "TypeError",
     "evalue": "'tuple' object does not support item assignment",
     "output_type": "error",
     "traceback": [
      "\u001b[0;31m---------------------------------------------------------------------------\u001b[0m",
      "\u001b[0;31mTypeError\u001b[0m                                 Traceback (most recent call last)",
      "\u001b[0;32m<ipython-input-12-21fac9e05986>\u001b[0m in \u001b[0;36m<module>\u001b[0;34m\u001b[0m\n\u001b[0;32m----> 1\u001b[0;31m \u001b[0ma\u001b[0m\u001b[0;34m[\u001b[0m\u001b[0;36m0\u001b[0m\u001b[0;34m]\u001b[0m \u001b[0;34m=\u001b[0m \u001b[0;36m4\u001b[0m\u001b[0;34m\u001b[0m\u001b[0;34m\u001b[0m\u001b[0m\n\u001b[0m",
      "\u001b[0;31mTypeError\u001b[0m: 'tuple' object does not support item assignment"
     ]
    }
   ],
   "source": [
    "a[0] = 4"
   ]
  },
  {
   "cell_type": "code",
   "execution_count": 13,
   "metadata": {},
   "outputs": [
    {
     "name": "stdout",
     "output_type": "stream",
     "text": [
      "<class 'tuple'>\n",
      "<class 'str'>\n",
      "<class 'tuple'>\n",
      "('1', '2', '3', '4', '5')\n"
     ]
    }
   ],
   "source": [
    "a = (1, 2, '三', 4, 'Five')\n",
    "b = '12345'\n",
    "c = tuple(b)\n",
    "\n",
    "print(type(a))\n",
    "print(type(b))\n",
    "print(type(c))\n",
    "print(c)"
   ]
  },
  {
   "cell_type": "code",
   "execution_count": 14,
   "metadata": {},
   "outputs": [
    {
     "name": "stdout",
     "output_type": "stream",
     "text": [
      "((1, 2, 3), (4, 5, 6))\n",
      "<class 'tuple'>\n"
     ]
    }
   ],
   "source": [
    "nest = ((1, 2, 3), (4, 5, 6))\n",
    "print(nest)\n",
    "print(type(nest))"
   ]
  },
  {
   "cell_type": "code",
   "execution_count": 15,
   "metadata": {},
   "outputs": [
    {
     "name": "stdout",
     "output_type": "stream",
     "text": [
      "1\n",
      "5\n",
      "4\n"
     ]
    }
   ],
   "source": [
    "a = (1, 2, 3, 4, 5)\n",
    "print(a[0])\n",
    "print(a[-1])\n",
    "print(a[-2])"
   ]
  },
  {
   "cell_type": "code",
   "execution_count": 16,
   "metadata": {},
   "outputs": [
    {
     "data": {
      "text/plain": [
       "(1, 2, 3, 4, 5)"
      ]
     },
     "execution_count": 16,
     "metadata": {},
     "output_type": "execute_result"
    }
   ],
   "source": [
    "a"
   ]
  },
  {
   "cell_type": "code",
   "execution_count": 17,
   "metadata": {},
   "outputs": [
    {
     "name": "stdout",
     "output_type": "stream",
     "text": [
      "(2, 3)\n",
      "(1, 2)\n",
      "(2, 3, 4, 5)\n"
     ]
    }
   ],
   "source": [
    "print(a[1:3])\n",
    "print(a[:2])\n",
    "print(a[1:])"
   ]
  },
  {
   "cell_type": "code",
   "execution_count": 18,
   "metadata": {},
   "outputs": [
    {
     "name": "stdout",
     "output_type": "stream",
     "text": [
      "1 2 3\n",
      "4 5 6 (7, 8, 9)\n"
     ]
    }
   ],
   "source": [
    "tup_1 = (1, 2, 3)\n",
    "one, two, three = tup_1\n",
    "print(one, two, three)\n",
    "\n",
    "tup_2 = (4, 5, 6, (7, 8, 9))\n",
    "one, two, three, four = tup_2\n",
    "print(one, two, three, four)"
   ]
  },
  {
   "cell_type": "code",
   "execution_count": 19,
   "metadata": {},
   "outputs": [
    {
     "name": "stdout",
     "output_type": "stream",
     "text": [
      "「あ」がタプルに出現する回数： 1\n",
      "「い」がタプルで最初に出現するインデックス： 1\n"
     ]
    }
   ],
   "source": [
    "a = ('あ', 'い', 'う', 'え', 'お')\n",
    "print('「あ」がタプルに出現する回数：', a.count('あ'))\n",
    "print('「い」がタプルで最初に出現するインデックス：', a.index('い'))"
   ]
  },
  {
   "cell_type": "code",
   "execution_count": 20,
   "metadata": {},
   "outputs": [
    {
     "name": "stdout",
     "output_type": "stream",
     "text": [
      "<class 'list'>\n",
      "<class 'tuple'>\n",
      "<class 'list'>\n"
     ]
    }
   ],
   "source": [
    "a = ['a', 'b', 'c', 1, 2]\n",
    "b = ('a', 'b', 'c', 1, 2)\n",
    "c = list(b)\n",
    "print(type(a))\n",
    "print(type(b))\n",
    "print(type(c))"
   ]
  },
  {
   "cell_type": "code",
   "execution_count": 21,
   "metadata": {},
   "outputs": [
    {
     "name": "stdout",
     "output_type": "stream",
     "text": [
      "['あ', 'い', 'う', 'え']\n",
      "あ\n",
      "['う', 'え']\n"
     ]
    }
   ],
   "source": [
    "a = list('あいうえ')\n",
    "print(a)\n",
    "print(a[0])\n",
    "print(a[2:])"
   ]
  },
  {
   "cell_type": "code",
   "execution_count": 22,
   "metadata": {},
   "outputs": [
    {
     "name": "stdout",
     "output_type": "stream",
     "text": [
      "[1, 2, 3, 4, 5, 6]\n",
      "[1, 2, 3, 4, 5, 6, 7, 8]\n",
      "[1, 2, 3, 4, 5, 6, 7, 8, 9, 10, 11]\n"
     ]
    }
   ],
   "source": [
    "a = [1, 2, 3, 4, 5]\n",
    "a.append(6)\n",
    "print(a)\n",
    "a.extend([7, 8])\n",
    "print(a)\n",
    "b = [9,  10, 11]\n",
    "print(a + b)"
   ]
  },
  {
   "cell_type": "code",
   "execution_count": 23,
   "metadata": {},
   "outputs": [
    {
     "name": "stdout",
     "output_type": "stream",
     "text": [
      "[1, 2, 3, 4, 5]\n",
      "[2, 3, 4, 5]\n",
      "[3, 4, 5]\n",
      "3 [4, 5]\n",
      "[]\n"
     ]
    }
   ],
   "source": [
    "a = [1, 2, 3, 4, 5]\n",
    "print(a)\n",
    "\n",
    "del a[0]\n",
    "print(a)\n",
    "\n",
    "a.remove(2)\n",
    "print(a)\n",
    "\n",
    "b = a.pop(0)\n",
    "print(b, a)\n",
    "\n",
    "a.clear()\n",
    "print(a)"
   ]
  },
  {
   "cell_type": "code",
   "execution_count": 24,
   "metadata": {},
   "outputs": [
    {
     "name": "stdout",
     "output_type": "stream",
     "text": [
      "{'あ': [1, 2, 3], 'い': [6, 7, 8, 9]}\n",
      "{'あ': [1, 2, 3], 'い': [9, 10, 11, 12]}\n"
     ]
    }
   ],
   "source": [
    "a = {'あ':[1, 2, 3]}\n",
    "b = {'い':[6, 7, 8, 9]}\n",
    "c = {'い':[9, 10, 11, 12]}\n",
    "\n",
    "a.update(b)\n",
    "print(a)\n",
    "\n",
    "a.update(c)\n",
    "print(a)"
   ]
  },
  {
   "cell_type": "code",
   "execution_count": 25,
   "metadata": {},
   "outputs": [
    {
     "name": "stdout",
     "output_type": "stream",
     "text": [
      "<class 'set'>\n",
      "<class 'list'>\n",
      "<class 'set'>\n"
     ]
    }
   ],
   "source": [
    "a = {1, 2, 3, 4, 5}\n",
    "b = [1, 2, 3, 4, 5]\n",
    "c = set(b)\n",
    "\n",
    "print(type(a))\n",
    "print(type(b))\n",
    "print(type(c))"
   ]
  },
  {
   "cell_type": "code",
   "execution_count": 26,
   "metadata": {},
   "outputs": [
    {
     "name": "stdout",
     "output_type": "stream",
     "text": [
      "{'three', 1, 2, 3}\n"
     ]
    }
   ],
   "source": [
    "a = {1, 2, 3, 'three', 'three',}\n",
    "print(a)"
   ]
  },
  {
   "cell_type": "code",
   "execution_count": 27,
   "metadata": {},
   "outputs": [
    {
     "name": "stdout",
     "output_type": "stream",
     "text": [
      "{1, 2, 3, 4, 5, 6, 7, 8}\n",
      "{1, 2, 3, 4, 5, 6, 7, 8}\n"
     ]
    }
   ],
   "source": [
    "a = {1, 2, 2, 3, 4, 5}\n",
    "b = {6, 2, 3, 7, 8}\n",
    "\n",
    "print(a.union(b))\n",
    "print(a | b)"
   ]
  },
  {
   "cell_type": "code",
   "execution_count": 28,
   "metadata": {},
   "outputs": [
    {
     "name": "stdout",
     "output_type": "stream",
     "text": [
      "{2, 3}\n",
      "{2, 3}\n"
     ]
    }
   ],
   "source": [
    "print(a.intersection(b))\n",
    "print(a & b)"
   ]
  },
  {
   "cell_type": "code",
   "execution_count": 29,
   "metadata": {},
   "outputs": [
    {
     "name": "stdout",
     "output_type": "stream",
     "text": [
      "条件がTrueであれば実行されるブロック\n",
      "5 は正の整数です\n",
      "ブロック外（単独実行）\n"
     ]
    }
   ],
   "source": [
    "#1.4 Pythonの基本操作\n",
    "num = 5\n",
    "\n",
    "if num > 0:\n",
    "    print('条件がTrueであれば実行されるブロック')\n",
    "    print(num, 'は正の整数です')\n",
    "print('ブロック外（単独実行）')"
   ]
  },
  {
   "cell_type": "code",
   "execution_count": 1,
   "metadata": {},
   "outputs": [
    {
     "name": "stdout",
     "output_type": "stream",
     "text": [
      "ブロック外（単独実行）\n"
     ]
    }
   ],
   "source": [
    "num = -5\n",
    "\n",
    "if num > 0:\n",
    "    print('条件がTrueであれば実行されるブロック')\n",
    "    print(num, 'は正の整数です')\n",
    "    \n",
    "print('ブロック外（単独実行）')"
   ]
  },
  {
   "cell_type": "code",
   "execution_count": 2,
   "metadata": {},
   "outputs": [
    {
     "name": "stdout",
     "output_type": "stream",
     "text": [
      "-5 は負の数です\n"
     ]
    }
   ],
   "source": [
    "import random\n",
    "num = random.randint(-10, 10)\n",
    "\n",
    "if num > 0:\n",
    "    print(num, 'は正の数です')\n",
    "elif num < 0:\n",
    "    print(num, 'は負の数です')"
   ]
  },
  {
   "cell_type": "code",
   "execution_count": 3,
   "metadata": {},
   "outputs": [
    {
     "name": "stdout",
     "output_type": "stream",
     "text": [
      "-10 は負の数字\n"
     ]
    }
   ],
   "source": [
    "import random\n",
    "num = random.randint(-10, 10)\n",
    "\n",
    "if num > 0:\n",
    "    print(num, 'は正の数字')\n",
    "elif num == 0:\n",
    "    print(num, 'はゼロ')\n",
    "else:\n",
    "    print(num, 'は負の数字')"
   ]
  },
  {
   "cell_type": "code",
   "execution_count": 4,
   "metadata": {},
   "outputs": [
    {
     "name": "stdout",
     "output_type": "stream",
     "text": [
      "1 回目　合計： 1\n",
      "2 回目　合計： 3\n",
      "3 回目　合計： 6\n",
      "4 回目　合計： 10\n",
      "5 回目　合計： 15\n"
     ]
    }
   ],
   "source": [
    "n = 5\n",
    "total = 0\n",
    "i = 1\n",
    "\n",
    "while i <= n:\n",
    "    total = total + i\n",
    "    print(i, '回目　合計：', total)\n",
    "    i = i + 1"
   ]
  },
  {
   "cell_type": "code",
   "execution_count": 6,
   "metadata": {},
   "outputs": [
    {
     "name": "stdout",
     "output_type": "stream",
     "text": [
      "1 回目のループ\n",
      "2 回目のループ\n",
      "3 回目のループ\n",
      "4 回目のループ\n",
      "5 回目のループ\n",
      "6 回目のループ\n",
      "7 回目のループ\n",
      "8 回目のループ\n",
      "9 回目のループ\n",
      "10 回目のループ\n",
      "条件式がFalse\n"
     ]
    }
   ],
   "source": [
    "count = 0\n",
    "n = 10\n",
    "while count < n:\n",
    "    count += 1\n",
    "    print(count, '回目のループ')\n",
    "else:\n",
    "    print('条件式がFalse')"
   ]
  },
  {
   "cell_type": "code",
   "execution_count": 7,
   "metadata": {},
   "outputs": [
    {
     "name": "stdout",
     "output_type": "stream",
     "text": [
      "1 + 0\n",
      "2 + 1\n",
      "3 + 3\n",
      "4 + 6\n",
      "5 + 10\n",
      "15\n"
     ]
    }
   ],
   "source": [
    "nums = [1, 2, 3, 4, 5]\n",
    "total = 0\n",
    "\n",
    "for num in nums:\n",
    "    print(num, '+', total)\n",
    "    total = total + num\n",
    "    \n",
    "print(total)"
   ]
  },
  {
   "cell_type": "code",
   "execution_count": 8,
   "metadata": {},
   "outputs": [
    {
     "name": "stdout",
     "output_type": "stream",
     "text": [
      "p\n",
      "a\n",
      "n\n",
      "d\n",
      "a\n",
      "s\n"
     ]
    }
   ],
   "source": [
    "letters = 'pandas'\n",
    "\n",
    "for letter in letters:\n",
    "    print(letter)"
   ]
  },
  {
   "cell_type": "code",
   "execution_count": 9,
   "metadata": {},
   "outputs": [
    {
     "name": "stdout",
     "output_type": "stream",
     "text": [
      "range(0, 5)\n",
      "<class 'range'>\n",
      "[0, 1, 2, 3, 4]\n"
     ]
    }
   ],
   "source": [
    "print(range(5))\n",
    "print(type(range(5)))\n",
    "print(list(range(5)))"
   ]
  },
  {
   "cell_type": "code",
   "execution_count": 11,
   "metadata": {},
   "outputs": [
    {
     "name": "stdout",
     "output_type": "stream",
     "text": [
      "変数petの要素数： 3\n",
      "変数petのインデックス 0 ： cat\n",
      "変数petのインデックス 1 ： dog\n",
      "変数petのインデックス 2 ： fish\n"
     ]
    }
   ],
   "source": [
    "pet = ['cat', 'dog', 'fish']\n",
    "print('変数petの要素数：', len(pet))\n",
    "\n",
    "for i in range(len(pet)):\n",
    "    print('変数petのインデックス', i, '：', pet[i])"
   ]
  },
  {
   "cell_type": "code",
   "execution_count": 12,
   "metadata": {},
   "outputs": [
    {
     "name": "stdout",
     "output_type": "stream",
     "text": [
      "1\n",
      "2\n"
     ]
    }
   ],
   "source": [
    "nums = [1, 2, 3, 4, 5]\n",
    "for num in nums:\n",
    "    if num == 3:\n",
    "        break\n",
    "    print(num)"
   ]
  },
  {
   "cell_type": "code",
   "execution_count": 13,
   "metadata": {},
   "outputs": [
    {
     "name": "stdout",
     "output_type": "stream",
     "text": [
      "1\n",
      "2\n",
      "4\n",
      "5\n"
     ]
    }
   ],
   "source": [
    "nums = [1, 2, 3, 4, 5]\n",
    "for num in nums:\n",
    "    if num == 3:\n",
    "        continue\n",
    "    print(num)"
   ]
  },
  {
   "cell_type": "code",
   "execution_count": 14,
   "metadata": {},
   "outputs": [],
   "source": [
    "def multi(a, b):\n",
    "    c = a * b\n",
    "    print(c)"
   ]
  },
  {
   "cell_type": "code",
   "execution_count": 15,
   "metadata": {},
   "outputs": [
    {
     "name": "stdout",
     "output_type": "stream",
     "text": [
      "15\n"
     ]
    }
   ],
   "source": [
    "multi(3, 5)"
   ]
  },
  {
   "cell_type": "code",
   "execution_count": 16,
   "metadata": {},
   "outputs": [
    {
     "name": "stdout",
     "output_type": "stream",
     "text": [
      "5\n",
      "5\n"
     ]
    }
   ],
   "source": [
    "def absolute(a):\n",
    "    if a >= 0:\n",
    "        return a\n",
    "    else:\n",
    "        return -1 * a\n",
    "    \n",
    "print(absolute(5))\n",
    "print(absolute(-5))"
   ]
  },
  {
   "cell_type": "code",
   "execution_count": 17,
   "metadata": {},
   "outputs": [
    {
     "name": "stdout",
     "output_type": "stream",
     "text": [
      "1\n",
      "-4\n"
     ]
    }
   ],
   "source": [
    "def cal(a, b, name=5):\n",
    "    return(a + b - name)\n",
    "\n",
    "print(cal(2, 4))\n",
    "print(cal(2, 4, name=10))"
   ]
  },
  {
   "cell_type": "code",
   "execution_count": 18,
   "metadata": {},
   "outputs": [],
   "source": [
    "var_1 = 12345\n",
    "var_2 = '機械学習'"
   ]
  },
  {
   "cell_type": "code",
   "execution_count": 19,
   "metadata": {},
   "outputs": [],
   "source": [
    "obj = 'codexa'\n",
    "?obj"
   ]
  },
  {
   "cell_type": "code",
   "execution_count": 20,
   "metadata": {},
   "outputs": [],
   "source": [
    "?range"
   ]
  },
  {
   "cell_type": "code",
   "execution_count": 21,
   "metadata": {},
   "outputs": [
    {
     "name": "stdout",
     "output_type": "stream",
     "text": [
      "CPU times: user 1.41 ms, sys: 157 µs, total: 1.57 ms\n",
      "Wall time: 1.57 ms\n"
     ]
    },
    {
     "data": {
      "text/plain": [
       "4999950000"
      ]
     },
     "execution_count": 21,
     "metadata": {},
     "output_type": "execute_result"
    }
   ],
   "source": [
    "n = 100000\n",
    "%time sum(range(n))"
   ]
  },
  {
   "cell_type": "code",
   "execution_count": 22,
   "metadata": {},
   "outputs": [
    {
     "name": "stdout",
     "output_type": "stream",
     "text": [
      "4999950000\n",
      "CPU times: user 1.8 ms, sys: 0 ns, total: 1.8 ms\n",
      "Wall time: 1.8 ms\n"
     ]
    }
   ],
   "source": [
    "%%time\n",
    "n = 100000\n",
    "print(sum(range(n)))"
   ]
  },
  {
   "cell_type": "code",
   "execution_count": 23,
   "metadata": {},
   "outputs": [
    {
     "name": "stdout",
     "output_type": "stream",
     "text": [
      "9.87 ns ± 0.0142 ns per loop (mean ± std. dev. of 7 runs, 100000000 loops each)\n"
     ]
    }
   ],
   "source": [
    "%timeit 100 * 100"
   ]
  },
  {
   "cell_type": "code",
   "execution_count": 24,
   "metadata": {},
   "outputs": [
    {
     "name": "stdout",
     "output_type": "stream",
     "text": [
      "9.92 ns ± 0.0444 ns per loop (mean ± std. dev. of 7 runs, 100000000 loops each)\n"
     ]
    }
   ],
   "source": [
    "%%timeit\n",
    "99 * 99"
   ]
  },
  {
   "cell_type": "code",
   "execution_count": 25,
   "metadata": {},
   "outputs": [],
   "source": [
    "%matplotlib inline"
   ]
  },
  {
   "cell_type": "code",
   "execution_count": 26,
   "metadata": {},
   "outputs": [
    {
     "name": "stdout",
     "output_type": "stream",
     "text": [
      "Variable   Type        Data/Info\n",
      "--------------------------------\n",
      "absolute   function    <function absolute at 0x7eff342e8268>\n",
      "cal        function    <function cal at 0x7eff3432ed08>\n",
      "count      int         10\n",
      "i          int         2\n",
      "letter     str         s\n",
      "letters    str         pandas\n",
      "multi      function    <function multi at 0x7eff3432ebf8>\n",
      "n          int         100000\n",
      "num        int         5\n",
      "nums       list        n=5\n",
      "obj        str         codexa\n",
      "pet        list        n=3\n",
      "random     module      <module 'random' from '/h<...>lib/python3.6/random.py'>\n",
      "total      int         15\n",
      "var_1      int         12345\n",
      "var_2      str         機械学習\n"
     ]
    }
   ],
   "source": [
    "%whos"
   ]
  },
  {
   "cell_type": "code",
   "execution_count": 27,
   "metadata": {},
   "outputs": [
    {
     "name": "stdout",
     "output_type": "stream",
     "text": [
      "Variable   Type    Data/Info\n",
      "----------------------------\n",
      "letter     str     s\n",
      "letters    str     pandas\n",
      "obj        str     codexa\n",
      "var_2      str     機械学習\n"
     ]
    }
   ],
   "source": [
    "%whos str"
   ]
  },
  {
   "cell_type": "code",
   "execution_count": null,
   "metadata": {},
   "outputs": [],
   "source": []
  }
 ],
 "metadata": {
  "kernelspec": {
   "display_name": "Python 3",
   "language": "python",
   "name": "python3"
  },
  "language_info": {
   "codemirror_mode": {
    "name": "ipython",
    "version": 3
   },
   "file_extension": ".py",
   "mimetype": "text/x-python",
   "name": "python",
   "nbconvert_exporter": "python",
   "pygments_lexer": "ipython3",
   "version": "3.6.7"
  }
 },
 "nbformat": 4,
 "nbformat_minor": 4
}
